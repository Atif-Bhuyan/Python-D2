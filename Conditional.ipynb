{
 "cells": [
  {
   "cell_type": "code",
   "execution_count": 28,
   "metadata": {},
   "outputs": [
    {
     "name": "stdout",
     "output_type": "stream",
     "text": [
      "Eligble For Zero Balance Account\n"
     ]
    }
   ],
   "source": [
    "age = int(input(\"Input Your Age: \"))\n",
    "\n",
    "if (age >= 18) and (age <= 60):\n",
    "    print(\"Eligble For Debit Card!\")\n",
    "elif age > 14:\n",
    "    print(\"Eligble For Green Card\")\n",
    "elif age > 10:\n",
    "    print(\"Eligble For Zero Balance Account\")    \n",
    "else:\n",
    "    print (\"Not Eligible!\")\n",
    "\n"
   ]
  },
  {
   "cell_type": "markdown",
   "metadata": {},
   "source": [
    "## Nested Conditions"
   ]
  },
  {
   "cell_type": "code",
   "execution_count": 40,
   "metadata": {},
   "outputs": [
    {
     "name": "stdout",
     "output_type": "stream",
     "text": [
      "Eligible for Platinum Credit Card\n"
     ]
    }
   ],
   "source": [
    "age = 19\n",
    "salary = 40001\n",
    "\n",
    "if (age >= 18) and (age <= 60):\n",
    "    if salary >= 40000:\n",
    "        if salary > 100000:\n",
    "            print(\"Eligible for Gold Credit Card\")\n",
    "        else:\n",
    "            print(\"Eligible for Platinum Credit Card\")\n",
    "    else:\n",
    "        print(\"Eligble For Debit Card!\")\n",
    "elif age > 14:\n",
    "    print(\"Eligble For Green Card\")\n",
    "elif age > 10:\n",
    "    print(\"Eligble For Zero Balance Account\")    \n",
    "else:\n",
    "    print (\"Not Eligible!\")"
   ]
  },
  {
   "cell_type": "markdown",
   "metadata": {},
   "source": [
    "## Ternary Operator"
   ]
  },
  {
   "cell_type": "code",
   "execution_count": 46,
   "metadata": {},
   "outputs": [
    {
     "data": {
      "text/plain": [
       "True"
      ]
     },
     "execution_count": 46,
     "metadata": {},
     "output_type": "execute_result"
    }
   ],
   "source": [
    "num = 4\n",
    "is_even = None\n",
    "if num%2 == 0:\n",
    "   is_even = True\n",
    "else:\n",
    "    is_even = False\n",
    "is_even"
   ]
  },
  {
   "cell_type": "code",
   "execution_count": 47,
   "metadata": {},
   "outputs": [
    {
     "data": {
      "text/plain": [
       "False"
      ]
     },
     "execution_count": 47,
     "metadata": {},
     "output_type": "execute_result"
    }
   ],
   "source": [
    "num = 5\n",
    "is_even = None\n",
    "if num%2 == 0:\n",
    "   is_even = True\n",
    "else:\n",
    "    is_even = False\n",
    "is_even"
   ]
  },
  {
   "cell_type": "code",
   "execution_count": 49,
   "metadata": {},
   "outputs": [
    {
     "data": {
      "text/plain": [
       "False"
      ]
     },
     "execution_count": 49,
     "metadata": {},
     "output_type": "execute_result"
    }
   ],
   "source": [
    "is_even = True if num%2 == 0 else False\n",
    "is_even"
   ]
  },
  {
   "cell_type": "code",
   "execution_count": 51,
   "metadata": {},
   "outputs": [
    {
     "data": {
      "text/plain": [
       "'<20'"
      ]
     },
     "execution_count": 51,
     "metadata": {},
     "output_type": "execute_result"
    }
   ],
   "source": [
    "is_even = True if num%2 == 0 else (\">20\" if num>20 else \"<20\")\n",
    "is_even"
   ]
  }
 ],
 "metadata": {
  "interpreter": {
   "hash": "369f2c481f4da34e4445cda3fffd2e751bd1c4d706f27375911949ba6bb62e1c"
  },
  "kernelspec": {
   "display_name": "Python 3.10.2 64-bit",
   "language": "python",
   "name": "python3"
  },
  "language_info": {
   "codemirror_mode": {
    "name": "ipython",
    "version": 3
   },
   "file_extension": ".py",
   "mimetype": "text/x-python",
   "name": "python",
   "nbconvert_exporter": "python",
   "pygments_lexer": "ipython3",
   "version": "3.10.2"
  },
  "orig_nbformat": 4
 },
 "nbformat": 4,
 "nbformat_minor": 2
}
