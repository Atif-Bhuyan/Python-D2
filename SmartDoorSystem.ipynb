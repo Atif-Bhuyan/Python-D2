{
 "cells": [
  {
   "cell_type": "markdown",
   "metadata": {},
   "source": [
    "# Smart Door System"
   ]
  },
  {
   "cell_type": "markdown",
   "metadata": {},
   "source": [
    "### Conditions\n",
    "* password = \"open@\", favourite_colour='balck'\n",
    "* Take door password from user.\n",
    "* Check and open door if password is correct, otherwise say Wrong Password Try again, take input again, check again.\n",
    "* Maximum try is 3 times, then ask for security question.\n",
    "* The take users answer, validate if security answer is correct then help user to change the password. otherwise lock the door."
   ]
  },
  {
   "cell_type": "code",
   "execution_count": 7,
   "metadata": {},
   "outputs": [
    {
     "name": "stdout",
     "output_type": "stream",
     "text": [
      "Wrong Password, Try Again\n",
      "Door is Locked\n",
      "Wrong Password, Try Again\n",
      "Door is Locked\n",
      "Wrong Password, Try Again\n",
      "Security Alert\n",
      "Your Answer Is Correct!!!\n"
     ]
    }
   ],
   "source": [
    "password = \"open@\"\n",
    "favourite_colour = \"black\"\n",
    "\n",
    "\n",
    "count = 0\n",
    "\n",
    "while count < 3: \n",
    "     user_password = input(\"Entar Door Password: \")\n",
    "     if user_password == password:\n",
    "          print(\"Door is Open\")\n",
    "          break\n",
    "     else:\n",
    "          print(\"Wrong Password, Try Again\")\n",
    "          count = count + 1\n",
    "         \n",
    "          if count == 3:\n",
    "               print(\"Security Alert\")\n",
    "               user_favourite_colour = input(\"Enter your favoutite Colour: \")\n",
    "               if user_favourite_colour == favourite_colour:\n",
    "                   print(\"Your Answer Is Correct!!!\")\n",
    "                   user_new_password = input(\"Input a New Password\")\n",
    "               else:\n",
    "                   print(\"Answer Is Not Correct!!! Door is Locked\")    \n",
    "          else: \n",
    "              print(\"Door is Locked\")\n",
    "\n"
   ]
  }
 ],
 "metadata": {
  "interpreter": {
   "hash": "369f2c481f4da34e4445cda3fffd2e751bd1c4d706f27375911949ba6bb62e1c"
  },
  "kernelspec": {
   "display_name": "Python 3.10.2 64-bit",
   "language": "python",
   "name": "python3"
  },
  "language_info": {
   "codemirror_mode": {
    "name": "ipython",
    "version": 3
   },
   "file_extension": ".py",
   "mimetype": "text/x-python",
   "name": "python",
   "nbconvert_exporter": "python",
   "pygments_lexer": "ipython3",
   "version": "3.10.2"
  },
  "orig_nbformat": 4
 },
 "nbformat": 4,
 "nbformat_minor": 2
}
